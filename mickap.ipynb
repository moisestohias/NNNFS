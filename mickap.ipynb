{
 "cells": [
  {
   "cell_type": "code",
   "execution_count": 67,
   "metadata": {},
   "outputs": [],
   "source": [
    "import numpy as np\n",
    "\n",
    "class Tensor:\n",
    "    def __init__(self, data, _children=(), _op='', requires_grad=False):\n",
    "        self.data = data\n",
    "        self.requires_grad = requires_grad\n",
    "        self.grad = 0\n",
    "        # internal variables used for autograd graph construction\n",
    "        self._backward = lambda: None\n",
    "        self._prev = set(_children)\n",
    "        self._op = _op # the op that produced this node, for graphviz / debugging / etc\n",
    "        self.shape = self.data.shape\n",
    "    def __add__(self, other):\n",
    "        other = other if isinstance(other, Tensor) else Tensor(other)\n",
    "        if not (self.requires_grad and other.requires_grad): return Tensor(self.data + other.data, (self, other), 'add')\n",
    "        out = Tensor(self.data + other.data, (self, other), 'add', requires_grad=True)\n",
    "        def _backward():\n",
    "            \"\"\"Do we have to check whether other requires grad or not? I don't think so, since other will take the gradient whether it need it or not, if doens't requires grad, then stop.\"\"\"\n",
    "            self.grad += out.grad\n",
    "            other.grad += out.grad\n",
    "        out._backward = _backward\n",
    "\n",
    "        return out\n",
    "\n",
    "    def __mul__(self, other):\n",
    "        other = other if isinstance(other, Tensor) else Tensor(other)\n",
    "        if not (self.requires_grad and other.requires_grad): return Tensor(self.data * other.data, (self, other), 'mul')\n",
    "        out = Tensor(self.data * other.data, (self, other), 'mul')\n",
    "\n",
    "        def _backward():\n",
    "            self.grad += other.data * out.grad\n",
    "            other.grad += self.data * out.grad\n",
    "        out._backward = _backward\n",
    "\n",
    "        return out\n",
    "\n",
    "    def __pow__(self, other):\n",
    "        assert isinstance(other, (int, float)), \"only supporting int/float powers for now\"\n",
    "        out = Tensor(self.data**other, (self,), f'**{other}')\n",
    "\n",
    "        def _backward():\n",
    "            self.grad += (other * self.data**(other-1)) * out.grad\n",
    "        out._backward = _backward\n",
    "\n",
    "        return out\n",
    "\n",
    "    def relu(self):\n",
    "        out = Tensor(0 if self.data < 0 else self.data, (self,), 'ReLU')\n",
    "\n",
    "        def _backward():\n",
    "            self.grad += (out.data > 0) * out.grad\n",
    "        out._backward = _backward\n",
    "\n",
    "        return out\n",
    "\n",
    "    def backward(self):\n",
    "\n",
    "        # topological order all of the children in the graph\n",
    "        topo = []\n",
    "        visited = set()\n",
    "        def build_topo(v):\n",
    "            if v not in visited:\n",
    "                visited.add(v)\n",
    "                for child in v._prev:\n",
    "                    build_topo(child)\n",
    "                topo.append(v)\n",
    "        build_topo(self)\n",
    "\n",
    "        # go one variable at a time and apply the chain rule to get its gradient\n",
    "        self.grad = 1\n",
    "        for v in reversed(topo): v._backward()\n",
    "\n",
    "    def dot(self, other):\n",
    "        other = other if isinstance(other, Tensor) else Tensor(other)\n",
    "        if not (self.requires_grad or other.requires_grad): return Tensor(self.data.dot(other.data), (self, other), 'dot')\n",
    "        out = Tensor(self.data.dot(other.data), (self, other), 'dot', requires_grad=True)\n",
    "        def _backward(): # a = z@w \n",
    "            # We need to make sure that the gradient is a matrix, not a scaler nor vector\n",
    "            if isinstance(out, int) \n",
    "            self.grad += out.grad.data.dot(other.data.T) # dL/dz = dL/da @ w.T\n",
    "            other.grad += other.data.T.dot(out.grad) # dL/dw = z.T @ dL/da\n",
    "        out._backward = _backward\n",
    "\n",
    "        return out\n",
    "    def __get__(self, indx): return self.data.__get__(indx)\n",
    "    def __set__(self, indx, ): return self.data.__set__(indx)\n",
    "    def __neg__(self): return self * -1 # -self\n",
    "    def __radd__(self, other): return self + other # other + self\n",
    "    def __sub__(self, other): return self + (-other) # self - other\n",
    "    def __rsub__(self, other): return other + (-self) # other - self\n",
    "    def __rmul__(self, other): return self * other # other * self\n",
    "    def __truediv__(self, other): return self * other**-1 # self / other\n",
    "    def __rtruediv__(self, other): return other * self**-1 # other / self\n",
    "    def __repr__(self): return f\"Tensor(data={self.data}, grad={self.grad})\"\n",
    "\n",
    "np.random.seed(5)\n",
    "z = Tensor(np.random.randn(6,4))\n",
    "w = Tensor(np.random.randn(4,2), requires_grad=True)\n",
    "a = z.dot(w)\n",
    "grad = a.backward()"
   ]
  },
  {
   "cell_type": "code",
   "execution_count": 69,
   "metadata": {},
   "outputs": [
    {
     "data": {
      "text/plain": [
       "(6, 4)"
      ]
     },
     "execution_count": 69,
     "metadata": {},
     "output_type": "execute_result"
    }
   ],
   "source": [
    "w.grad.shape"
   ]
  },
  {
   "cell_type": "code",
   "execution_count": 63,
   "metadata": {},
   "outputs": [
    {
     "data": {
      "text/plain": [
       "0"
      ]
     },
     "execution_count": 63,
     "metadata": {},
     "output_type": "execute_result"
    }
   ],
   "source": [
    "w.grad"
   ]
  }
 ],
 "metadata": {
  "kernelspec": {
   "display_name": "Python 3",
   "language": "python",
   "name": "python3"
  },
  "language_info": {
   "codemirror_mode": {
    "name": "ipython",
    "version": 3
   },
   "file_extension": ".py",
   "mimetype": "text/x-python",
   "name": "python",
   "nbconvert_exporter": "python",
   "pygments_lexer": "ipython3",
   "version": "3.10.7"
  },
  "orig_nbformat": 4
 },
 "nbformat": 4,
 "nbformat_minor": 2
}
